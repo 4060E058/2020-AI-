{
  "nbformat": 4,
  "nbformat_minor": 0,
  "metadata": {
    "colab": {
      "name": "20201021",
      "provenance": [],
      "authorship_tag": "ABX9TyOh3tSGW2j7knPIlW8KUfC+",
      "include_colab_link": true
    },
    "kernelspec": {
      "name": "python3",
      "display_name": "Python 3"
    }
  },
  "cells": [
    {
      "cell_type": "markdown",
      "metadata": {
        "id": "view-in-github",
        "colab_type": "text"
      },
      "source": [
        "<a href=\"https://colab.research.google.com/github/4060E058/2020-AI-/blob/master/20201021.ipynb\" target=\"_parent\"><img src=\"https://colab.research.google.com/assets/colab-badge.svg\" alt=\"Open In Colab\"/></a>"
      ]
    },
    {
      "cell_type": "markdown",
      "metadata": {
        "id": "dMSPZD7-xmQg"
      },
      "source": [
        "#[1]Pandas兩大資料型態: Series與DataFrame\n",
        "教科書  第五章 使用pandas\n"
      ]
    },
    {
      "cell_type": "code",
      "metadata": {
        "id": "3wesHSOPxi7b"
      },
      "source": [
        "import pandas as pd\n",
        "\n",
        "from pandas import Series, DataFrame\n",
        "\n",
        "import numpy as np\n",
        "np.random.seed(12345)\n",
        "import matplotlib.pyplot as plt\n",
        "plt.rc('figure', figsize=(10, 6))\n",
        "PREVIOUS_MAX_ROWS = pd.options.display.max_rows\n",
        "pd.options.display.max_rows = 20\n",
        "np.set_printoptions(precision=4, suppress=True)"
      ],
      "execution_count": 1,
      "outputs": []
    },
    {
      "cell_type": "markdown",
      "metadata": {
        "id": "NR7tmgr2xw_9"
      },
      "source": [
        "#Series資料型態\n"
      ]
    },
    {
      "cell_type": "code",
      "metadata": {
        "id": "kRMfRSbKxwkf"
      },
      "source": [
        "obj = pd.Series([4, 7, -5, 3])\n",
        "obj\n",
        "\n",
        "obj.values\n",
        "obj.index  # like range(4)\n",
        "\n",
        "obj2 = pd.Series([4, 7, -5, 3], index=['d', 'b', 'a', 'c'])\n",
        "obj2\n",
        "obj2.index"
      ],
      "execution_count": null,
      "outputs": []
    },
    {
      "cell_type": "markdown",
      "metadata": {
        "id": "0XSLiI0Wx1tV"
      },
      "source": [
        "#DataFrame資料型態\n"
      ]
    },
    {
      "cell_type": "code",
      "metadata": {
        "id": "IzYD0zMcx9sF"
      },
      "source": [
        "data = {'state': ['Ohio', 'Ohio', 'Ohio', 'Nevada', 'Nevada', 'Nevada'],\n",
        "        'year': [2000, 2001, 2002, 2001, 2002, 2003],\n",
        "        'pop': [1.5, 1.7, 3.6, 2.4, 2.9, 3.2]}\n",
        "frame = pd.DataFrame(data)\n",
        "\n",
        "frame\n",
        "\n",
        "frame.head()\n",
        "\n",
        "pd.DataFrame(data, columns=['year', 'state', 'pop'])\n",
        "\n",
        "frame2 = pd.DataFrame(data, columns=['year', 'state', 'pop', 'debt'],\n",
        "                      index=['one', 'two', 'three', 'four',\n",
        "                             'five', 'six'])\n",
        "frame2\n",
        "frame2.columns\n",
        "\n",
        "frame2['state']\n",
        "frame2.year\n",
        "\n",
        "frame2.loc['three']\n",
        "\n",
        "frame2['debt'] = 16.5\n",
        "frame2\n",
        "frame2['debt'] = np.arange(6.)\n",
        "frame2"
      ],
      "execution_count": null,
      "outputs": []
    },
    {
      "cell_type": "markdown",
      "metadata": {
        "id": "jx3P_yM6yB0N"
      },
      "source": [
        "#DataFrame屬性與方法\n",
        "pandas 有一些好用的屬性與方法可以快速暸解一個 DataFrame 的外觀與內容：\n",
        "\n",
        "df.shape：這個 DataFrame 有幾列有幾欄\n",
        "\n",
        "df.columns：這個 DataFrame 的變數資訊\n",
        "\n",
        "df.index：這個 DataFrame 的列索引資訊\n",
        "\n",
        "df.info()：關於 DataFrame 的詳細資訊\n",
        "\n",
        "df.describe()：關於 DataFrame 各數值變數的描述統計\n",
        "#[2]Pandas檔案讀寫的函數\n",
        "抓取遠方的CSV檔案到Google Colab\n"
      ]
    },
    {
      "cell_type": "code",
      "metadata": {
        "id": "jt65vPSvzhXW"
      },
      "source": [
        "!curl -O https://raw.githubusercontent.com/jakevdp/data-CDCbirths/master/births.csv\n",
        "\n",
        "!ls\n",
        "\n",
        "births = pd.read_csv('births.csv')\n",
        "\n",
        "births.head()"
      ],
      "execution_count": null,
      "outputs": []
    },
    {
      "cell_type": "markdown",
      "metadata": {
        "id": "N0Fb2mLDzjbb"
      },
      "source": [
        "#讀入 csv 文字檔\n"
      ]
    },
    {
      "cell_type": "code",
      "metadata": {
        "id": "ftcBVcA-zke9"
      },
      "source": [
        "import pandas as pd\n",
        "\n",
        "# 讀入 csv 文字檔\n",
        "csv_file = \"https://storage.googleapis.com/learn_pd_like_tidyverse/gapminder.csv\"\n",
        "\n",
        "gapminder = pd.read_csv(csv_file)\n",
        "print(type(gapminder))\n",
        "gapminder.head()"
      ],
      "execution_count": null,
      "outputs": []
    },
    {
      "cell_type": "markdown",
      "metadata": {
        "id": "JVJ5dsE0zpPH"
      },
      "source": [
        "#讀入 excel 試算表\n"
      ]
    },
    {
      "cell_type": "code",
      "metadata": {
        "id": "k_0OMJmkzyUl",
        "outputId": "265e5b5a-c4b6-43d7-a139-e9a5b967c318",
        "colab": {
          "base_uri": "https://localhost:8080/",
          "height": 535
        }
      },
      "source": [
        "xlsx_file = \"https://storage.googleapis.com/learn_pd_like_tidyverse/gapminder.xlsx\"\n",
        "gapminder = pd.read_excel(xlsx_file)\n",
        "print(type(gapminder))\n",
        "\n",
        "gapminder.head()\n",
        "gapminder.tail(5)\n",
        "\n",
        "gapminder.info()\n",
        "gapminder.describe()"
      ],
      "execution_count": 2,
      "outputs": [
        {
          "output_type": "stream",
          "text": [
            "<class 'pandas.core.frame.DataFrame'>\n",
            "<class 'pandas.core.frame.DataFrame'>\n",
            "RangeIndex: 1704 entries, 0 to 1703\n",
            "Data columns (total 6 columns):\n",
            " #   Column     Non-Null Count  Dtype  \n",
            "---  ------     --------------  -----  \n",
            " 0   country    1704 non-null   object \n",
            " 1   continent  1704 non-null   object \n",
            " 2   year       1704 non-null   int64  \n",
            " 3   lifeExp    1704 non-null   float64\n",
            " 4   pop        1704 non-null   int64  \n",
            " 5   gdpPercap  1704 non-null   float64\n",
            "dtypes: float64(2), int64(2), object(2)\n",
            "memory usage: 80.0+ KB\n"
          ],
          "name": "stdout"
        },
        {
          "output_type": "execute_result",
          "data": {
            "text/html": [
              "<div>\n",
              "<style scoped>\n",
              "    .dataframe tbody tr th:only-of-type {\n",
              "        vertical-align: middle;\n",
              "    }\n",
              "\n",
              "    .dataframe tbody tr th {\n",
              "        vertical-align: top;\n",
              "    }\n",
              "\n",
              "    .dataframe thead th {\n",
              "        text-align: right;\n",
              "    }\n",
              "</style>\n",
              "<table border=\"1\" class=\"dataframe\">\n",
              "  <thead>\n",
              "    <tr style=\"text-align: right;\">\n",
              "      <th></th>\n",
              "      <th>year</th>\n",
              "      <th>lifeExp</th>\n",
              "      <th>pop</th>\n",
              "      <th>gdpPercap</th>\n",
              "    </tr>\n",
              "  </thead>\n",
              "  <tbody>\n",
              "    <tr>\n",
              "      <th>count</th>\n",
              "      <td>1704.00000</td>\n",
              "      <td>1704.000000</td>\n",
              "      <td>1.704000e+03</td>\n",
              "      <td>1704.000000</td>\n",
              "    </tr>\n",
              "    <tr>\n",
              "      <th>mean</th>\n",
              "      <td>1979.50000</td>\n",
              "      <td>59.474439</td>\n",
              "      <td>2.960121e+07</td>\n",
              "      <td>7215.327081</td>\n",
              "    </tr>\n",
              "    <tr>\n",
              "      <th>std</th>\n",
              "      <td>17.26533</td>\n",
              "      <td>12.917107</td>\n",
              "      <td>1.061579e+08</td>\n",
              "      <td>9857.454543</td>\n",
              "    </tr>\n",
              "    <tr>\n",
              "      <th>min</th>\n",
              "      <td>1952.00000</td>\n",
              "      <td>23.599000</td>\n",
              "      <td>6.001100e+04</td>\n",
              "      <td>241.165876</td>\n",
              "    </tr>\n",
              "    <tr>\n",
              "      <th>25%</th>\n",
              "      <td>1965.75000</td>\n",
              "      <td>48.198000</td>\n",
              "      <td>2.793664e+06</td>\n",
              "      <td>1202.060309</td>\n",
              "    </tr>\n",
              "    <tr>\n",
              "      <th>50%</th>\n",
              "      <td>1979.50000</td>\n",
              "      <td>60.712500</td>\n",
              "      <td>7.023596e+06</td>\n",
              "      <td>3531.846988</td>\n",
              "    </tr>\n",
              "    <tr>\n",
              "      <th>75%</th>\n",
              "      <td>1993.25000</td>\n",
              "      <td>70.845500</td>\n",
              "      <td>1.958522e+07</td>\n",
              "      <td>9325.462346</td>\n",
              "    </tr>\n",
              "    <tr>\n",
              "      <th>max</th>\n",
              "      <td>2007.00000</td>\n",
              "      <td>82.603000</td>\n",
              "      <td>1.318683e+09</td>\n",
              "      <td>113523.132900</td>\n",
              "    </tr>\n",
              "  </tbody>\n",
              "</table>\n",
              "</div>"
            ],
            "text/plain": [
              "             year      lifeExp           pop      gdpPercap\n",
              "count  1704.00000  1704.000000  1.704000e+03    1704.000000\n",
              "mean   1979.50000    59.474439  2.960121e+07    7215.327081\n",
              "std      17.26533    12.917107  1.061579e+08    9857.454543\n",
              "min    1952.00000    23.599000  6.001100e+04     241.165876\n",
              "25%    1965.75000    48.198000  2.793664e+06    1202.060309\n",
              "50%    1979.50000    60.712500  7.023596e+06    3531.846988\n",
              "75%    1993.25000    70.845500  1.958522e+07    9325.462346\n",
              "max    2007.00000    82.603000  1.318683e+09  113523.132900"
            ]
          },
          "metadata": {
            "tags": []
          },
          "execution_count": 2
        }
      ]
    },
    {
      "cell_type": "markdown",
      "metadata": {
        "id": "sNf-Q4B-z2XF"
      },
      "source": [
        "#上傳檔案到Google Colab再執行\n"
      ]
    },
    {
      "cell_type": "code",
      "metadata": {
        "id": "pOTN2Srtz4VV"
      },
      "source": [
        "from google.colab import files\n",
        "uploaded = files.upload()"
      ],
      "execution_count": null,
      "outputs": []
    },
    {
      "cell_type": "markdown",
      "metadata": {
        "id": "7NKt18Ptz5xe"
      },
      "source": [
        "#用 Python 抓取 Ubike 開放資料\n"
      ]
    },
    {
      "cell_type": "markdown",
      "metadata": {
        "id": "2C1I-haoz9CN"
      },
      "source": [
        "https://jerrynest.io/python-get-ubike-opendata/\n",
        "\n",
        "https://colab.research.google.com/drive/1jQprW8RIsA_SEFpBm6POF8DgZ1XZ9YH6#scrollTo=A8qmjnFmGyNv\n",
        "Ubike 資料說明\n",
        "\n",
        "每筆資料有以下 14 個欄位，其中有部分是不會變動的資料，如 sno、sna、sarea 等等，待會放資料庫時會獨立出來放\n",
        "\n",
        "sno：站點代號\n",
        "\n",
        " sna：場站名稱(中文)\n",
        " tot：場站總停車格\n",
        " sbi：場站目前車輛數量\n",
        " sarea：場站區域(中文)\n",
        " mday：資料更新時間\n",
        " lat：緯度\n",
        " lng：經度\n",
        " ar：地(中文)\n",
        " sareaen：場站區域(英文)\n",
        " snaen：場站名稱(英文)\n",
        " aren：地址(英文)\n",
        " bemp：空位數量\n",
        " act：全站禁用狀態"
      ]
    },
    {
      "cell_type": "code",
      "metadata": {
        "id": "jwtLVHRr0Fvu"
      },
      "source": [
        "import requests\n",
        "import json\n",
        "\n",
        "url = \"http://data.taipei/youbike\"\n",
        "data = requests.get(url).json()\n",
        "\n",
        "print(data)\n",
        "\n",
        "for key, value in data[\"retVal\"].items():\n",
        "  sno = value[\"sno\"]\n",
        "  sna = value[\"sna\"]\n",
        "  print(\"NO.\", sno, sna)"
      ],
      "execution_count": null,
      "outputs": []
    },
    {
      "cell_type": "markdown",
      "metadata": {
        "id": "8c6AacWr0If9"
      },
      "source": [
        "#pandas裡有幾種方法可以合併資料:以merge()為例\n",
        "Database-Style DataFrame Joins（資料庫風格的DataFrame Joins）\n",
        "\n",
        "Merge或join操作，能通過一個或多個key，把不同的資料集的行連接在一起。\n",
        "\n",
        "這種操作主要集中於關聯式資料庫。\n",
        "\n",
        "pandas中的merge函數是這種操作的主要切入點："
      ]
    },
    {
      "cell_type": "code",
      "metadata": {
        "id": "aYdkVm1T0Om1"
      },
      "source": [
        "import pandas as pd\n",
        "import numpy as np\n",
        "\n",
        "df1 = pd.DataFrame({'key': ['b', 'b', 'a', 'c', 'a', 'a', 'b'],\n",
        "                    'data1': range(7)})\n",
        "\n",
        "df1\n",
        "\n",
        "df2 = pd.DataFrame({'key': ['a', 'b', 'd'],\n",
        "                    'data2': range(3)})\n",
        "df2\n",
        "\n",
        "pd.merge(df1, df2)"
      ],
      "execution_count": null,
      "outputs": []
    },
    {
      "cell_type": "markdown",
      "metadata": {
        "id": "JAVRAiHt0QYF"
      },
      "source": [
        "#GroupBy Mechanics（分組機制）\n"
      ]
    },
    {
      "cell_type": "markdown",
      "metadata": {
        "id": "0Lyeib-w0Trl"
      },
      "source": [
        "把一個pandas對象（series或DataFrame）按key分解為多個\n",
        "\n",
        "計算組的匯總統計值（group summary statistics），比如計數，平均值，標準差，或使用者自己定義的函數"
      ]
    },
    {
      "cell_type": "code",
      "metadata": {
        "id": "u_FU2_Og0Xc2"
      },
      "source": [
        "df = pd.DataFrame({'key1' : ['a', 'a', 'b', 'b', 'a'],\n",
        "                   'key2' : ['one', 'two', 'one', 'two', 'one'],\n",
        "                   'data1' : np.random.randn(5),\n",
        "                   'data2' : np.random.randn(5)})\n",
        "df\n",
        "\n",
        "grouped = df['data1'].groupby(df['key1'])\n",
        "grouped\n",
        "grouped.mean()"
      ],
      "execution_count": null,
      "outputs": []
    }
  ]
}