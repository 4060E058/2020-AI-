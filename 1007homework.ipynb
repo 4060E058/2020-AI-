{
  "nbformat": 4,
  "nbformat_minor": 0,
  "metadata": {
    "colab": {
      "name": "1007homework.ipynb",
      "provenance": [],
      "collapsed_sections": [],
      "authorship_tag": "ABX9TyOa2F81aQs0XsYsNEj4MMBP",
      "include_colab_link": true
    },
    "kernelspec": {
      "name": "python3",
      "display_name": "Python 3"
    }
  },
  "cells": [
    {
      "cell_type": "markdown",
      "metadata": {
        "id": "view-in-github",
        "colab_type": "text"
      },
      "source": [
        "<a href=\"https://colab.research.google.com/github/4060E058/2020-AI-/blob/master/1007homework.ipynb\" target=\"_parent\"><img src=\"https://colab.research.google.com/assets/colab-badge.svg\" alt=\"Open In Colab\"/></a>"
      ]
    },
    {
      "cell_type": "markdown",
      "metadata": {
        "id": "gX5TGn7m6v2A"
      },
      "source": [
        "**NUMPY課程大綱**\n",
        "[1]numpy\n",
        "[2]Numpy ndarray資料結構及其屬性\n",
        "[3]單一Numpy ndarray的各種運算\n",
        "   建立ndarray的各種方法\n",
        "   ndarray的各種shape運算:reshape|ravel()|T|newaxis\n",
        "   ndarray的索引(index)與切片運算(slice)\n",
        "   ndarray的Reduction 運算:prod()|sum()|mean()|median()\n",
        "[4]超重要的Universal Functions:Fast Element-Wise Array Functions\n",
        "\n",
        "[5]多Numpy ndarray的各種運算\n",
        "[6]Numpy的廣播機制(Broadcast)\n",
        "\n",
        "[6]應用範例:類神經網路與邏輯閘實作[請參閱另外簡報]\n",
        "\n",
        "[7]自主學習主題"
      ]
    },
    {
      "cell_type": "markdown",
      "metadata": {
        "id": "fvksvgyH62_w"
      },
      "source": [
        "[1] numpy\n",
        "# **粗體文字**\n",
        "NumPy是Python語言的一個擴充程式庫。\n",
        "支援高階大量的維度陣列與矩陣運算\n",
        "針對陣列運算提供大量的數學函式函式庫。\n",
        "\n",
        "NumPy的前身Numeric最早是由Jim Hugunin與其它協作者共同開發\n",
        "2005年，Travis Oliphant在Numeric中結合了另一個同性質的程式庫Numarray的特色，\n",
        "並加入了其它擴充功能而開發了NumPy。\n",
        "NumPy為開放原始碼並且由許多協作者共同維護開發。"
      ]
    },
    {
      "cell_type": "markdown",
      "metadata": {
        "id": "ADX4rJJL7Beo"
      },
      "source": [
        "[2] Numpy ndarray資料結構及其屬性\n",
        "**粗體文字**\n",
        "NUMPY個數組（N維數組）重要屬性：形狀尺寸\n"
      ]
    },
    {
      "cell_type": "markdown",
      "metadata": {
        "id": "IuNPkOJQ7SMg"
      },
      "source": [
        "軸 (axis) 與維度 (dimension)\n",
        "shape\n",
        "dtype 屬性"
      ]
    },
    {
      "cell_type": "code",
      "metadata": {
        "id": "8SOCaaCY7PbX",
        "outputId": "478a0837-e9b9-4ffc-82ac-a9837b81a35c",
        "colab": {
          "base_uri": "https://localhost:8080/"
        }
      },
      "source": [
        "import numpy as np\n",
        "ar2=np.array([[0,3,5],[2,8,7]])\n",
        "# ar2.shape\n",
        "ar2.ndim"
      ],
      "execution_count": 21,
      "outputs": [
        {
          "output_type": "execute_result",
          "data": {
            "text/plain": [
              "2"
            ]
          },
          "metadata": {
            "tags": []
          },
          "execution_count": 21
        }
      ]
    },
    {
      "cell_type": "markdown",
      "metadata": {
        "id": "Md3vndJY7WL4"
      },
      "source": [
        "ndarray資料型態（dtype）與型態轉換（astype）\n",
        "**粗體文字**"
      ]
    },
    {
      "cell_type": "code",
      "metadata": {
        "id": "eg2G4L4O7YuQ",
        "outputId": "cebcc718-2fea-4a9a-b366-ce6e90c79f8a",
        "colab": {
          "base_uri": "https://localhost:8080/"
        }
      },
      "source": [
        "ar=np.array([2,4,6,8]); \n",
        "ar.dtype"
      ],
      "execution_count": 22,
      "outputs": [
        {
          "output_type": "execute_result",
          "data": {
            "text/plain": [
              "dtype('int64')"
            ]
          },
          "metadata": {
            "tags": []
          },
          "execution_count": 22
        }
      ]
    },
    {
      "cell_type": "markdown",
      "metadata": {
        "id": "WDKtTpmM7bPI"
      },
      "source": [
        "下列程序執行後的結果為何？\n",
        "**粗體文字**"
      ]
    },
    {
      "cell_type": "code",
      "metadata": {
        "id": "lhWdlm4n7ea6",
        "outputId": "dc5e6f6d-7bff-422d-bcbb-6c230e0d89ed",
        "colab": {
          "base_uri": "https://localhost:8080/"
        }
      },
      "source": [
        "f_ar = np.array([13,-3,8.88])\n",
        "f_ar\n",
        "\n",
        "intf_ar=f_ar.astype(int)\n",
        "intf_ar"
      ],
      "execution_count": 23,
      "outputs": [
        {
          "output_type": "execute_result",
          "data": {
            "text/plain": [
              "array([13, -3,  8])"
            ]
          },
          "metadata": {
            "tags": []
          },
          "execution_count": 23
        }
      ]
    },
    {
      "cell_type": "markdown",
      "metadata": {
        "id": "69TFlR7Q7i4I"
      },
      "source": [
        "[3]**單個Numpy** ndarray的各種運算\n"
      ]
    },
    {
      "cell_type": "markdown",
      "metadata": {
        "id": "ReWYA1ik7nig"
      },
      "source": [
        "建立array（陣列）的方式與實作（有很多方式）\n",
        "**粗體文字**"
      ]
    },
    {
      "cell_type": "markdown",
      "metadata": {
        "id": "SZOvqmW47qMC"
      },
      "source": [
        "1.使用Python內建的array()建立陣列\n",
        "2.使用numpy提供的創建函數建立陣列\n",
        "3.直接生成==>使用genfromtxt()方法建立陣列[進階,初學可略過]"
      ]
    },
    {
      "cell_type": "markdown",
      "metadata": {
        "id": "sqTWuOiv7r-f"
      },
      "source": [
        "#1.使用Python內建的array（）建立框架\n"
      ]
    },
    {
      "cell_type": "code",
      "metadata": {
        "id": "OXUeVAH87xHF"
      },
      "source": [
        "import numpy as np\n",
        "x = np.array([[1,2.0],[0,0],(1+1j,3.)])\n"
      ],
      "execution_count": 24,
      "outputs": []
    },
    {
      "cell_type": "markdown",
      "metadata": {
        "id": "wfJPFZYo71Ep"
      },
      "source": [
        "#2.使用numpy提供的創建函數建立堆棧\n"
      ]
    },
    {
      "cell_type": "markdown",
      "metadata": {
        "id": "DJlc5Sgj79kY"
      },
      "source": [
        "eye\n",
        "zeros\n",
        "ones\n",
        "linspace\n",
        "indices\n",
        "diag\n",
        "tile"
      ]
    },
    {
      "cell_type": "code",
      "metadata": {
        "id": "Hqxzm_3N75Jg",
        "outputId": "c0755e67-e291-44cb-ebf4-07f98ae33626",
        "colab": {
          "base_uri": "https://localhost:8080/"
        }
      },
      "source": [
        "\n",
        "import numpy as np\n",
        "ar9 = np.eye(3);\n",
        "ar9"
      ],
      "execution_count": 25,
      "outputs": [
        {
          "output_type": "execute_result",
          "data": {
            "text/plain": [
              "array([[1., 0., 0.],\n",
              "       [0., 1., 0.],\n",
              "       [0., 0., 1.]])"
            ]
          },
          "metadata": {
            "tags": []
          },
          "execution_count": 25
        }
      ]
    },
    {
      "cell_type": "markdown",
      "metadata": {
        "id": "Ru7QnsEr8Dbp"
      },
      "source": [
        "#使用np.zeros建立架構\n"
      ]
    },
    {
      "cell_type": "code",
      "metadata": {
        "id": "uAGvwjA_8IAp",
        "outputId": "9bc4370a-b724-4465-b20b-69a2cdee9cf3",
        "colab": {
          "base_uri": "https://localhost:8080/"
        }
      },
      "source": [
        "import numpy as np\n",
        "np.zeros((2, 3))"
      ],
      "execution_count": 26,
      "outputs": [
        {
          "output_type": "execute_result",
          "data": {
            "text/plain": [
              "array([[0., 0., 0.],\n",
              "       [0., 0., 0.]])"
            ]
          },
          "metadata": {
            "tags": []
          },
          "execution_count": 26
        }
      ]
    },
    {
      "cell_type": "markdown",
      "metadata": {
        "id": "waulEyoq8I9Y"
      },
      "source": [
        "#使用np.ones建立架構\n"
      ]
    },
    {
      "cell_type": "code",
      "metadata": {
        "id": "SN_n0F8G8LKQ",
        "outputId": "30c9dd7e-6c51-448f-c7c2-f36dbf0c8ff9",
        "colab": {
          "base_uri": "https://localhost:8080/"
        }
      },
      "source": [
        "import numpy as np\n",
        "np.ones((4, 7))"
      ],
      "execution_count": 27,
      "outputs": [
        {
          "output_type": "execute_result",
          "data": {
            "text/plain": [
              "array([[1., 1., 1., 1., 1., 1., 1.],\n",
              "       [1., 1., 1., 1., 1., 1., 1.],\n",
              "       [1., 1., 1., 1., 1., 1., 1.],\n",
              "       [1., 1., 1., 1., 1., 1., 1.]])"
            ]
          },
          "metadata": {
            "tags": []
          },
          "execution_count": 27
        }
      ]
    },
    {
      "cell_type": "markdown",
      "metadata": {
        "id": "GzKqaA1s8NVA"
      },
      "source": [
        "#使用np.arange建立架構\n"
      ]
    },
    {
      "cell_type": "code",
      "metadata": {
        "id": "6KjGy-eb8RW4",
        "outputId": "f7fbc5fc-7770-4e86-b5f7-10166f79e3df",
        "colab": {
          "base_uri": "https://localhost:8080/"
        }
      },
      "source": [
        "import numpy as np\n",
        "np.arange(2, 3, 0.1) # start, end, step"
      ],
      "execution_count": 28,
      "outputs": [
        {
          "output_type": "execute_result",
          "data": {
            "text/plain": [
              "array([2. , 2.1, 2.2, 2.3, 2.4, 2.5, 2.6, 2.7, 2.8, 2.9])"
            ]
          },
          "metadata": {
            "tags": []
          },
          "execution_count": 28
        }
      ]
    },
    {
      "cell_type": "markdown",
      "metadata": {
        "id": "qaRa7zPA8Tww"
      },
      "source": [
        "#使用np.linspace建立架構\n"
      ]
    },
    {
      "cell_type": "code",
      "metadata": {
        "id": "dRqOTdWs8Vwo",
        "outputId": "e1a79e0f-c500-42e6-c6c6-ce782231e3d0",
        "colab": {
          "base_uri": "https://localhost:8080/"
        }
      },
      "source": [
        "import numpy as np\n",
        "np.linspace(1., 4., 6) # start, end, num"
      ],
      "execution_count": 29,
      "outputs": [
        {
          "output_type": "execute_result",
          "data": {
            "text/plain": [
              "array([1. , 1.6, 2.2, 2.8, 3.4, 4. ])"
            ]
          },
          "metadata": {
            "tags": []
          },
          "execution_count": 29
        }
      ]
    },
    {
      "cell_type": "markdown",
      "metadata": {
        "id": "ngBcoSu_8X0o"
      },
      "source": [
        "#使用np.linspace建立架構"
      ]
    },
    {
      "cell_type": "code",
      "metadata": {
        "id": "KPF9GmQt8ZkQ",
        "outputId": "185d9ebc-0b4c-4dab-def4-7b1985d4f688",
        "colab": {
          "base_uri": "https://localhost:8080/"
        }
      },
      "source": [
        "import numpy as np\n",
        "np.linspace(2.0, 3.0, num=5)"
      ],
      "execution_count": 30,
      "outputs": [
        {
          "output_type": "execute_result",
          "data": {
            "text/plain": [
              "array([2.  , 2.25, 2.5 , 2.75, 3.  ])"
            ]
          },
          "metadata": {
            "tags": []
          },
          "execution_count": 30
        }
      ]
    },
    {
      "cell_type": "markdown",
      "metadata": {
        "id": "0VYkpJAy8bsw"
      },
      "source": [
        "#使用np.linspace建立架構"
      ]
    },
    {
      "cell_type": "code",
      "metadata": {
        "id": "p9BCdmOl8dqA",
        "outputId": "0e47edd3-df99-4e14-d5e3-2acb9489485e",
        "colab": {
          "base_uri": "https://localhost:8080/"
        }
      },
      "source": [
        "import numpy as np\n",
        "np.linspace(2.0, 3.0, num=5, endpoint=False)"
      ],
      "execution_count": 31,
      "outputs": [
        {
          "output_type": "execute_result",
          "data": {
            "text/plain": [
              "array([2. , 2.2, 2.4, 2.6, 2.8])"
            ]
          },
          "metadata": {
            "tags": []
          },
          "execution_count": 31
        }
      ]
    },
    {
      "cell_type": "markdown",
      "metadata": {
        "id": "wYxr7nWg8gnY"
      },
      "source": [
        "#使用np.linspace建立架構\n"
      ]
    },
    {
      "cell_type": "code",
      "metadata": {
        "id": "iBYP_Ein8ieJ",
        "outputId": "b936a749-938b-4c71-c8ea-9d9d8f8fe0d7",
        "colab": {
          "base_uri": "https://localhost:8080/"
        }
      },
      "source": [
        "import numpy as np\n",
        "np.linspace(2.0, 3.0, num=5, retstep=True)"
      ],
      "execution_count": 32,
      "outputs": [
        {
          "output_type": "execute_result",
          "data": {
            "text/plain": [
              "(array([2.  , 2.25, 2.5 , 2.75, 3.  ]), 0.25)"
            ]
          },
          "metadata": {
            "tags": []
          },
          "execution_count": 32
        }
      ]
    },
    {
      "cell_type": "markdown",
      "metadata": {
        "id": "OYSlvQax8kOw"
      },
      "source": [
        "#使用np.indices建立架構\n"
      ]
    },
    {
      "cell_type": "code",
      "metadata": {
        "id": "OojTXmEs8mNY",
        "outputId": "de50b3bd-0132-437f-fc6b-cbde5589005b",
        "colab": {
          "base_uri": "https://localhost:8080/"
        }
      },
      "source": [
        "import numpy as np\n",
        "np.indices((3, 3))"
      ],
      "execution_count": 33,
      "outputs": [
        {
          "output_type": "execute_result",
          "data": {
            "text/plain": [
              "array([[[0, 0, 0],\n",
              "        [1, 1, 1],\n",
              "        [2, 2, 2]],\n",
              "\n",
              "       [[0, 1, 2],\n",
              "        [0, 1, 2],\n",
              "        [0, 1, 2]]])"
            ]
          },
          "metadata": {
            "tags": []
          },
          "execution_count": 33
        }
      ]
    },
    {
      "cell_type": "markdown",
      "metadata": {
        "id": "KK6yZEvA8obQ"
      },
      "source": [
        "#使用np.diag建立架構\n"
      ]
    },
    {
      "cell_type": "code",
      "metadata": {
        "id": "OBUWV6ta8qvg",
        "outputId": "7ba05ee4-9b7c-42b1-d8c5-ec9d69d1d088",
        "colab": {
          "base_uri": "https://localhost:8080/"
        }
      },
      "source": [
        "import numpy as np\n",
        "ar10=np.diag((2,1,4,6));\n",
        "ar10\n",
        "\n",
        "import numpy as np\n",
        "a = np.array([0, 1, 2])\n",
        "np.tile(a, 2)\n",
        "\n",
        "import numpy as np\n",
        "a = np.array([0, 1, 2])\n",
        "np.tile(a, (2, 2))\n",
        "\n",
        "import numpy as np\n",
        "a = np.array([0, 1, 2])\n",
        "np.tile(a, (2, 1, 2))"
      ],
      "execution_count": 34,
      "outputs": [
        {
          "output_type": "execute_result",
          "data": {
            "text/plain": [
              "array([[[0, 1, 2, 0, 1, 2]],\n",
              "\n",
              "       [[0, 1, 2, 0, 1, 2]]])"
            ]
          },
          "metadata": {
            "tags": []
          },
          "execution_count": 34
        }
      ]
    },
    {
      "cell_type": "markdown",
      "metadata": {
        "id": "5OiDuJlJ8xxZ"
      },
      "source": [
        "#3.直接生成使用genfromtxt（）方法建立數組[進階，初學可略​​過]\n",
        "**粗體文字**"
      ]
    },
    {
      "cell_type": "code",
      "metadata": {
        "id": "mv2mH4eE81wI",
        "outputId": "5eb488d5-e24d-4590-94dc-1f11a1cfefbb",
        "colab": {
          "base_uri": "https://localhost:8080/"
        }
      },
      "source": [
        "import csv\n",
        "import numpy as np\n",
        "\n",
        "x = '''1,3,2,3,1,2,3,4\n",
        "2,4,5,0.6,5,6,7,8\n",
        "3,7,8,9,9,10,11,12\n",
        "4,1,1.1,1.2,13,14,15,16\n",
        "'''\n",
        "with open(\"abc.txt\",mode=\"w\",encoding=\"utf-8\") as file:\n",
        "  file.write(x)\n",
        "file.close()\n",
        "\n",
        "np.genfromtxt('abc.txt', delimiter=',', invalid_raise = False)"
      ],
      "execution_count": 35,
      "outputs": [
        {
          "output_type": "execute_result",
          "data": {
            "text/plain": [
              "array([[ 1. ,  3. ,  2. ,  3. ,  1. ,  2. ,  3. ,  4. ],\n",
              "       [ 2. ,  4. ,  5. ,  0.6,  5. ,  6. ,  7. ,  8. ],\n",
              "       [ 3. ,  7. ,  8. ,  9. ,  9. , 10. , 11. , 12. ],\n",
              "       [ 4. ,  1. ,  1.1,  1.2, 13. , 14. , 15. , 16. ]])"
            ]
          },
          "metadata": {
            "tags": []
          },
          "execution_count": 35
        }
      ]
    },
    {
      "cell_type": "markdown",
      "metadata": {
        "id": "d9KXkhCj846I"
      },
      "source": [
        "下列程序執行後的結果為何？\n"
      ]
    },
    {
      "cell_type": "code",
      "metadata": {
        "id": "25LRC304855o",
        "outputId": "852d8dee-49ec-48a3-af9a-3631e1b4f6dc",
        "colab": {
          "base_uri": "https://localhost:8080/"
        }
      },
      "source": [
        "import numpy as np\n",
        "np.tile(np.array([[1,2],[6,7]]),3)\n",
        "\n",
        "import numpy as np\n",
        "np.tile(np.array([[1,2],[6,7]]),(2,2))"
      ],
      "execution_count": 36,
      "outputs": [
        {
          "output_type": "execute_result",
          "data": {
            "text/plain": [
              "array([[1, 2, 1, 2],\n",
              "       [6, 7, 6, 7],\n",
              "       [1, 2, 1, 2],\n",
              "       [6, 7, 6, 7]])"
            ]
          },
          "metadata": {
            "tags": []
          },
          "execution_count": 36
        }
      ]
    },
    {
      "cell_type": "markdown",
      "metadata": {
        "id": "YowgECxn8-Do"
      },
      "source": [
        "下列程序執行後的結果為何？\n"
      ]
    },
    {
      "cell_type": "code",
      "metadata": {
        "id": "I7nMsiSJ8_rw",
        "outputId": "6aa771a8-bbca-4b91-8a44-cfdce24935b8",
        "colab": {
          "base_uri": "https://localhost:8080/"
        }
      },
      "source": [
        "import numpy as np\n",
        "np.array([range(i, i + 3) for i in [2, 4, 6]])\n",
        "\n",
        "import numpy as np\n",
        "np.tile(np.array([[1,2],[6,7]]),3)\n",
        "\n",
        "import numpy as np\n",
        "np.tile(np.array([[1,2],[6,7]]),(2,2))"
      ],
      "execution_count": 37,
      "outputs": [
        {
          "output_type": "execute_result",
          "data": {
            "text/plain": [
              "array([[1, 2, 1, 2],\n",
              "       [6, 7, 6, 7],\n",
              "       [1, 2, 1, 2],\n",
              "       [6, 7, 6, 7]])"
            ]
          },
          "metadata": {
            "tags": []
          },
          "execution_count": 37
        }
      ]
    },
    {
      "cell_type": "markdown",
      "metadata": {
        "id": "aEufHBh39FfI"
      },
      "source": [
        "#NUMPY ndarray運算（數組形狀處理）\n",
        "**粗體文字**"
      ]
    },
    {
      "cell_type": "code",
      "metadata": {
        "id": "S9cRlY5V9bKW",
        "outputId": "b3ca7245-94fc-4aee-bab1-5cd6415eb7b5",
        "colab": {
          "base_uri": "https://localhost:8080/",
          "height": 216
        }
      },
      "source": [
        "reshape\n",
        "ravel()\n",
        "T\n",
        "newaxis"
      ],
      "execution_count": 39,
      "outputs": [
        {
          "output_type": "error",
          "ename": "NameError",
          "evalue": "ignored",
          "traceback": [
            "\u001b[0;31m---------------------------------------------------------------------------\u001b[0m",
            "\u001b[0;31mNameError\u001b[0m                                 Traceback (most recent call last)",
            "\u001b[0;32m<ipython-input-39-944fb35c1b6e>\u001b[0m in \u001b[0;36m<module>\u001b[0;34m()\u001b[0m\n\u001b[0;32m----> 1\u001b[0;31m \u001b[0mreshape\u001b[0m\u001b[0;34m\u001b[0m\u001b[0;34m\u001b[0m\u001b[0m\n\u001b[0m\u001b[1;32m      2\u001b[0m \u001b[0mravel\u001b[0m\u001b[0;34m(\u001b[0m\u001b[0;34m)\u001b[0m\u001b[0;34m\u001b[0m\u001b[0;34m\u001b[0m\u001b[0m\n\u001b[1;32m      3\u001b[0m \u001b[0mT\u001b[0m\u001b[0;34m\u001b[0m\u001b[0;34m\u001b[0m\u001b[0m\n\u001b[1;32m      4\u001b[0m \u001b[0mnewaxis\u001b[0m\u001b[0;34m\u001b[0m\u001b[0;34m\u001b[0m\u001b[0m\n",
            "\u001b[0;31mNameError\u001b[0m: name 'reshape' is not defined"
          ]
        }
      ]
    },
    {
      "cell_type": "markdown",
      "metadata": {
        "id": "r7xSG6TE9g4Q"
      },
      "source": [
        "重塑\n"
      ]
    },
    {
      "cell_type": "code",
      "metadata": {
        "id": "p5-9EmYz9ifI"
      },
      "source": [
        "import numpy as np\n",
        "x = np.arange(2,10).reshape(2,4)\n",
        "x\n",
        "import numpy as np\n",
        "y = np.arange(2,10).reshape(4,2)\n",
        "y"
      ],
      "execution_count": null,
      "outputs": []
    },
    {
      "cell_type": "markdown",
      "metadata": {
        "id": "6xH4qqfp9j7f"
      },
      "source": [
        "#拉夫\n"
      ]
    },
    {
      "cell_type": "code",
      "metadata": {
        "id": "Efx_8QpY9mxx"
      },
      "source": [
        "import numpy as np\n",
        "ar=np.array([np.arange(1,6),np.arange(10,15)]); \n",
        "ar\n",
        "import numpy as np\n",
        "ar=np.array([np.arange(1,6),np.arange(10,15)])\n",
        "ar.ravel()"
      ],
      "execution_count": null,
      "outputs": []
    },
    {
      "cell_type": "markdown",
      "metadata": {
        "id": "qCOs8Pnh9oRv"
      },
      "source": [
        "#Ť\n"
      ]
    },
    {
      "cell_type": "code",
      "metadata": {
        "id": "eT1Hg2yg9qMR"
      },
      "source": [
        "import numpy as np\n",
        "ar=np.array([np.arange(1,6),np.arange(10,15)])\n",
        "ar.T"
      ],
      "execution_count": null,
      "outputs": []
    },
    {
      "cell_type": "markdown",
      "metadata": {
        "id": "-JvsiqsN9rjH"
      },
      "source": [
        "#新軸\n"
      ]
    },
    {
      "cell_type": "code",
      "metadata": {
        "id": "aFBXviET9um3"
      },
      "source": [
        "import numpy as np\n",
        "ar=ar[:, np.newaxis]; ar.shape\n",
        "ar"
      ],
      "execution_count": null,
      "outputs": []
    },
    {
      "cell_type": "markdown",
      "metadata": {
        "id": "bVkgBrH29v7v"
      },
      "source": [
        "下列程序執行後的結果為何？\n"
      ]
    },
    {
      "cell_type": "code",
      "metadata": {
        "id": "VZE4Fytb9xNX"
      },
      "source": [
        "import numpy as np\n",
        "ar=np.array([np.arange(1,6),np.arange(10,15)])\n",
        "ar.T.ravel()\n",
        "\n",
        "import numpy as np\n",
        "ar=np.array([14,15,16])\n",
        "ar=ar[:, np.newaxis]\n",
        "ar.shape"
      ],
      "execution_count": null,
      "outputs": []
    },
    {
      "cell_type": "markdown",
      "metadata": {
        "id": "Wtb40dMx9zcL"
      },
      "source": [
        "#**ndarray的索引（index）與切片運算（slice）**\n"
      ]
    },
    {
      "cell_type": "markdown",
      "metadata": {
        "id": "bKHEc03C94V4"
      },
      "source": [
        "#1.索引\n"
      ]
    },
    {
      "cell_type": "code",
      "metadata": {
        "id": "PMYA13oV98MY"
      },
      "source": [
        "import numpy as np\n",
        "x = np.arange(2,10)\n",
        "# x\n",
        "print(x[0])\n",
        "print(x[-2])\n",
        "print(x[-1])\n",
        "\n",
        "import numpy as np\n",
        "ar = np.array([[2,3,4],[9,8,7],[11,12,13]])\n",
        "ar[1,2]"
      ],
      "execution_count": null,
      "outputs": []
    },
    {
      "cell_type": "markdown",
      "metadata": {
        "id": "6T2OldIc9-U0"
      },
      "source": [
        "#2.切片運算（切片）\n"
      ]
    },
    {
      "cell_type": "code",
      "metadata": {
        "id": "M1pc-uQR-ABJ"
      },
      "source": [
        "import numpy as np\n",
        "ar=2*np.arange(6)\n",
        "# ar\n",
        "ar[1:5:2]\n",
        "\n",
        "import numpy as np\n",
        "ar=2*np.arange(6)\n",
        "# ar\n",
        "ar[1:6:2]\n",
        "\n",
        "import numpy as np\n",
        "ar=2*np.arange(6)\n",
        "# ar\n",
        "ar[:4]"
      ],
      "execution_count": null,
      "outputs": []
    },
    {
      "cell_type": "markdown",
      "metadata": {
        "id": "zkPt7mvN-DbA"
      },
      "source": [
        "#[小測驗]以下程序執行後的結果為何？\n"
      ]
    },
    {
      "cell_type": "code",
      "metadata": {
        "id": "T8PVVNoO-GQA"
      },
      "source": [
        "import numpy as np\n",
        "ar = np.array([[2,3,4],[9,8,7],[11,12,13]])\n",
        "# ar\n",
        "ar[2,:] \n",
        "\n",
        "import numpy as np\n",
        "ar = np.array([[2,3,4],[9,8,7],[11,12,13]])\n",
        "# ar\n",
        "ar[:,1]  \n",
        "\n",
        "import numpy as np\n",
        "ar = np.array([[2,3,4],[9,8,7],[11,12,13]])\n",
        "# ar\n",
        "ar[2,-1]\n",
        "\n",
        "import numpy as np\n",
        "ar=2*np.arange(6)\n",
        "# ar\n",
        "ar[::3]\n",
        "\n",
        "import numpy as np\n",
        "ar=2*np.arange(6)\n",
        "# ar\n",
        "ar[:3]=1\n",
        "ar\n",
        "\n",
        "import numpy as np\n",
        "ar=2*np.arange(6)\n",
        "# ar\n",
        "ar[2:]=np.ones(4)\n",
        "ar"
      ],
      "execution_count": null,
      "outputs": []
    },
    {
      "cell_type": "markdown",
      "metadata": {
        "id": "0uTnAorT-JDB"
      },
      "source": [
        "#ndarray的約簡運算：prod（）| sum（）| mean（）| median（）\n"
      ]
    },
    {
      "cell_type": "code",
      "metadata": {
        "id": "88D-S1vv-MdS"
      },
      "source": [
        "prod()\n",
        "sum()\n",
        "mean()\n",
        "median(ar)\n",
        "\n",
        "import numpy as np\n",
        "ar=np.arange(1,5)\n",
        "ar.prod()\n",
        "\n",
        "import numpy as np\n",
        "ar=np.array([[2,3,4],[5,6,7],[8,9,10]])\n",
        "ar.sum()\n",
        "\n",
        "import numpy as np\n",
        "ar=np.array([[2,3,4],[5,6,7],[8,9,10]])\n",
        "ar.mean()\n",
        "\n",
        "import numpy as np\n",
        "ar=np.array([[2,3,4],[5,6,7],[8,9,10]])\n",
        "np.median(ar)"
      ],
      "execution_count": null,
      "outputs": []
    },
    {
      "cell_type": "markdown",
      "metadata": {
        "id": "YiTaUtQh-P1v"
      },
      "source": [
        "#[小測驗]以下程序執行後的結果為何？\n"
      ]
    },
    {
      "cell_type": "code",
      "metadata": {
        "id": "n5dJryRa-RVI"
      },
      "source": [
        "ar=np.array([np.arange(1,6),np.arange(1,6)])\n",
        "# ar\n",
        "np.prod(ar,axis=0)\n",
        "\n",
        "ar=np.array([np.arange(1,6),np.arange(1,6)])\n",
        "# ar\n",
        "np.prod(ar,axis=1)"
      ],
      "execution_count": null,
      "outputs": []
    },
    {
      "cell_type": "markdown",
      "metadata": {
        "id": "C-Fxp24A-WDH"
      },
      "source": [
        "#延伸閱讀\n"
      ]
    },
    {
      "cell_type": "markdown",
      "metadata": {
        "id": "t0uDd7lw-YZI"
      },
      "source": [
        "更多運算請參閱\n",
        "NumPy 高速運算徹底解說 - \n",
        "六行寫一隻程式？你真懂深度學習？手工算給你看！ 現場で使える! NumPyデータ処理入門\n",
        "吉田 拓真、尾原 颯 著 吳嘉芳、蒲宗賢 譯\n",
        "旗標科技2020-01-17\n",
        "Ch02 NumPy基本運算函式\n",
        "\n",
        "Ch03 NumPy 的數學函式"
      ]
    },
    {
      "cell_type": "markdown",
      "metadata": {
        "id": "pemZFjbP-Z2J"
      },
      "source": [
        "#[5]**超重要的ufunc（通用函數）：快速明智的數組函數**\n"
      ]
    },
    {
      "cell_type": "markdown",
      "metadata": {
        "id": "8rAC5Xuy-fHh"
      },
      "source": [
        "ufunc是universal function的縮寫\n",
        "這些函數能夠作用於narray物件的每一個元素上，而不是針對narray物件操作\n",
        "numpy提供了大量的ufunc的函數。這些函數在對narray進行運算的速度比使用迴圈或者清單推導式要快很多\n",
        "\n",
        "sqrt\n",
        "exp"
      ]
    },
    {
      "cell_type": "markdown",
      "metadata": {
        "id": "pzCw-UHP-gOY"
      },
      "source": [
        "#sqrt\n"
      ]
    },
    {
      "cell_type": "code",
      "metadata": {
        "id": "rYJoym_Q-in0"
      },
      "source": [
        "import numpy as np\n",
        "arr = np.arange(10)\n",
        "np.sqrt(arr)"
      ],
      "execution_count": null,
      "outputs": []
    },
    {
      "cell_type": "markdown",
      "metadata": {
        "id": "R6EGFuUf-kTk"
      },
      "source": [
        "#經驗值\n"
      ]
    },
    {
      "cell_type": "code",
      "metadata": {
        "id": "z3wD-Gh8-mlZ"
      },
      "source": [
        "import numpy as np\n",
        "arr = np.arange(10)\n",
        "np.exp(arr)"
      ],
      "execution_count": null,
      "outputs": []
    },
    {
      "cell_type": "markdown",
      "metadata": {
        "id": "1yVD16SB-oWa"
      },
      "source": [
        "#[5**]多Numpy ndarray的各種運算（A矩陣與B矩陣間的運算）**\n"
      ]
    },
    {
      "cell_type": "markdown",
      "metadata": {
        "id": "VVdb863p-t4U"
      },
      "source": [
        "#加法運算\n"
      ]
    },
    {
      "cell_type": "code",
      "metadata": {
        "id": "9uOAhUC--r00"
      },
      "source": [
        "import numpy as np\n",
        "arr = np.array([[1., 2., 3.], [4., 5., 6.]])\n",
        "# arr\n",
        "arr+arr"
      ],
      "execution_count": null,
      "outputs": []
    },
    {
      "cell_type": "markdown",
      "metadata": {
        "id": "wqSzhzEr-ymw"
      },
      "source": [
        "#乘法運算\n"
      ]
    },
    {
      "cell_type": "code",
      "metadata": {
        "id": "a12e1tMw-1ox"
      },
      "source": [
        "import numpy as np\n",
        "arr = np.array([[1., 2., 3.], [4., 5., 6.]])\n",
        "# arr\n",
        "arr*arr\n",
        "\n",
        "import numpy as np\n",
        "ar=np.array([[1,1],[1,1]])\n",
        "ar2=np.array([[2,2],[2,2]])\n",
        "ar*ar2"
      ],
      "execution_count": null,
      "outputs": []
    },
    {
      "cell_type": "markdown",
      "metadata": {
        "id": "JpDm_vTu-3kT"
      },
      "source": [
        "#點運算\n"
      ]
    },
    {
      "cell_type": "code",
      "metadata": {
        "id": "TpCXi0be-4dg"
      },
      "source": [
        "import numpy as np\n",
        "ar=np.array([[1,1],[1,1]])\n",
        "ar2=np.array([[2,2],[2,2]])\n",
        "ar.dot(ar2)"
      ],
      "execution_count": null,
      "outputs": []
    },
    {
      "cell_type": "markdown",
      "metadata": {
        "id": "vP0Imk6k-7Wk"
      },
      "source": [
        "**[小測驗]以下程序執行後的結果為何？**\n"
      ]
    },
    {
      "cell_type": "code",
      "metadata": {
        "id": "9Rv0toeW_Ajw"
      },
      "source": [
        "import numpy as np\n",
        "arr = np.array([[1., 2., 3.], [4., 5., 6.]])\n",
        "# arr\n",
        "arr-arr\n",
        "\n",
        "import numpy as np\n",
        "arr = np.array([[1., 2., 3.], [4., 5., 6.]])\n",
        "# arr\n",
        "1/arr\n",
        "\n",
        "import numpy as np\n",
        "arr = np.array([[1., 2., 3.], [4., 5., 6.]])\n",
        "# arr\n",
        "arr ** 0.5\n",
        "\n",
        "import numpy as np\n",
        "xarr = np.array([1.1, 1.2, 1.3, 1.4, 1.5])\n",
        "yarr = np.array([2.1, 2.2, 2.3, 2.4, 2.5])\n",
        "cond = np.array([True, False, True, True, False])\n",
        "result = [(x if c else y)\n",
        "          for x, y, c in zip(xarr, yarr, cond)]\n",
        "result\n",
        "\n",
        "import numpy as np\n",
        "xarr = np.array([1.1, 1.2, 1.3, 1.4, 1.5])\n",
        "yarr = np.array([2.1, 2.2, 2.3, 2.4, 2.5])\n",
        "cond = np.array([True, False, True, True, False])\n",
        "result = np.where(cond, xarr, yarr)\n",
        "result"
      ],
      "execution_count": null,
      "outputs": []
    },
    {
      "cell_type": "markdown",
      "metadata": {
        "id": "3K8gDgDt_DTf"
      },
      "source": [
        "#[6]** ndarray運算的Broadcasting（廣播機制）**\n"
      ]
    },
    {
      "cell_type": "markdown",
      "metadata": {
        "id": "TPZ4OVSF_HwY"
      },
      "source": [
        "參考資料:\n",
        "[1]numpy 中的 broadcasting（廣播）機制\n",
        "   https://codertw.com/程式語言/462108/\n",
        "[2]NumPy 廣播(Broadcast)\n",
        "   https://www.runoob.com/numpy/numpy-broadcast.html[2]"
      ]
    },
    {
      "cell_type": "code",
      "metadata": {
        "id": "XOtrwj_t_JlU"
      },
      "source": [
        "import numpy as np\n",
        "x1 = np.arange(9.0).reshape((3, 3))\n",
        "x2 = np.arange(3.0)\n",
        "np.multiply(x1, x2)\n",
        "\n",
        "import numpy as np\n",
        "np.arange(3) + 5\n",
        "\n",
        "import numpy as np\n",
        "np.ones((3, 3)) + np.arange(3)"
      ],
      "execution_count": null,
      "outputs": []
    },
    {
      "cell_type": "markdown",
      "metadata": {
        "id": "FYDA0sO-_Mzn"
      },
      "source": [
        "**[小測驗]以下程序執行後的結果為何？**"
      ]
    },
    {
      "cell_type": "code",
      "metadata": {
        "id": "_3vdELYY_PQI"
      },
      "source": [
        "import numpy as np\n",
        "np.arange(3).reshape((3, 1)) + np.arange(3)"
      ],
      "execution_count": null,
      "outputs": []
    },
    {
      "cell_type": "markdown",
      "metadata": {
        "id": "9A404Ikn_Qla"
      },
      "source": [
        "#[7]**自主學習主題**\n"
      ]
    },
    {
      "cell_type": "markdown",
      "metadata": {
        "id": "4M7lnCDi_Tz6"
      },
      "source": [
        "使用<Numpy random模組>產生隨機資料\n"
      ]
    },
    {
      "cell_type": "code",
      "metadata": {
        "id": "5ydE1lp8_WRf"
      },
      "source": [
        "numpy.random.randint(low, high=None, size=None, dtype='l')\n",
        "\n",
        "seed\n",
        "random.randint\n",
        "\n",
        "import numpy as np\n",
        "np.random.randint(1,5)\n",
        "\n",
        "import numpy as np\n",
        "np.random.randint(-5,5,size=(2,2))\n",
        "\n",
        "import numpy as np\n",
        "np.random.seed(0)\n",
        "x1 = np.random.randint(10, size=6) \n",
        "x1\n",
        "\n",
        "import numpy as np\n",
        "np.random.seed(0)\n",
        "x2 = np.random.randint(10, size=(3, 4))\n",
        "x2\n",
        "\n",
        "import numpy as np\n",
        "np.random.seed(0)\n",
        "x3 = np.random.randint(10, size=(3, 4, 5))\n",
        "x3"
      ],
      "execution_count": null,
      "outputs": []
    },
    {
      "cell_type": "markdown",
      "metadata": {
        "id": "QjllUiqd_Zmx"
      },
      "source": [
        "**[小測驗]以下程序執行後的結果為何？**"
      ]
    },
    {
      "cell_type": "code",
      "metadata": {
        "id": "w7fiBh8U_eHo"
      },
      "source": [
        "import numpy as np\n",
        "np.random.randint(1,size=5)"
      ],
      "execution_count": null,
      "outputs": []
    },
    {
      "cell_type": "markdown",
      "metadata": {
        "id": "cFVQvO4M_fii"
      },
      "source": [
        "#**NUMPY ndarray處理器（A矩陣與B矩陣間的convolute處理器）[進階，初學可略​​過]**"
      ]
    },
    {
      "cell_type": "code",
      "metadata": {
        "id": "L7jePglb_j6g"
      },
      "source": [
        "numpy.convolve(a, v, mode=‘full’ )\n",
        "\n",
        "convolve\n",
        "\n",
        "import numpy as np\n",
        "np.convolve([1, 2, 3], [0, 1, 0.5])\n",
        "\n",
        "import numpy as np\n",
        "np.convolve([1,2,3],[0,1,0.5], 'same')\n",
        "\n",
        "import numpy as np\n",
        "np.convolve([1,2,3],[0,1,0.5], 'valid')"
      ],
      "execution_count": null,
      "outputs": []
    },
    {
      "cell_type": "code",
      "metadata": {
        "id": "qmdwWPLu_nbK"
      },
      "source": [
        "**[小測驗]以下程序執行後的結果為何？**"
      ],
      "execution_count": null,
      "outputs": []
    },
    {
      "cell_type": "code",
      "metadata": {
        "id": "PuuXY6HR_qh3"
      },
      "source": [
        "import numpy as np\n",
        "np.convolve([1, 2, 3], [0, 1, 0.5])"
      ],
      "execution_count": null,
      "outputs": []
    },
    {
      "cell_type": "markdown",
      "metadata": {
        "id": "KKImadyx_rt0"
      },
      "source": [
        "#NUMPY ndarray（N維數組）檔案輸入與輸出\n"
      ]
    },
    {
      "cell_type": "markdown",
      "metadata": {
        "id": "CrTnVp-A_zR4"
      },
      "source": [
        "https://ithelp.ithome.com.tw/articles/10196167\n",
        "save()\n",
        "load()"
      ]
    },
    {
      "cell_type": "markdown",
      "metadata": {
        "id": "WLrj11Um_1gt"
      },
      "source": [
        "#NUMPY ndarray運算-排序sort [進階，初學可略​​過]\n"
      ]
    },
    {
      "cell_type": "markdown",
      "metadata": {
        "id": "HDAr94Da_6S9"
      },
      "source": [
        "https://github.com/femibyte/mastering_pandas/blob/master/MasteringPandas-chap3_DataStructures.ipynb\n",
        "\n",
        "學生報告:舉例說明numpy陣列的各項排序運算\n",
        "\n",
        "sort"
      ]
    },
    {
      "cell_type": "code",
      "metadata": {
        "id": "ulmhbmg8_t8I",
        "outputId": "60d5d89d-6572-4f5d-cb4d-2ccbbf0c6e7e",
        "colab": {
          "base_uri": "https://localhost:8080/",
          "height": 216
        }
      },
      "source": [
        "import numpy as np\n",
        "ar=np.array([[3,2],[10,-1]])\n",
        "# ar\n",
        "ar.sort(axis=1)\n",
        "ar"
      ],
      "execution_count": 41,
      "outputs": [
        {
          "output_type": "stream",
          "text": [
            "/bin/bash: https://ithelp.ithome.com.tw/articles/10196167: No such file or directory\n"
          ],
          "name": "stdout"
        },
        {
          "output_type": "error",
          "ename": "NameError",
          "evalue": "ignored",
          "traceback": [
            "\u001b[0;31m---------------------------------------------------------------------------\u001b[0m",
            "\u001b[0;31mNameError\u001b[0m                                 Traceback (most recent call last)",
            "\u001b[0;32m<ipython-input-41-a09f57a36d7c>\u001b[0m in \u001b[0;36m<module>\u001b[0;34m()\u001b[0m\n\u001b[1;32m      1\u001b[0m \u001b[0mget_ipython\u001b[0m\u001b[0;34m(\u001b[0m\u001b[0;34m)\u001b[0m\u001b[0;34m.\u001b[0m\u001b[0msystem\u001b[0m\u001b[0;34m(\u001b[0m\u001b[0;34m'https://ithelp.ithome.com.tw/articles/10196167'\u001b[0m\u001b[0;34m)\u001b[0m\u001b[0;34m\u001b[0m\u001b[0;34m\u001b[0m\u001b[0m\n\u001b[0;32m----> 2\u001b[0;31m \u001b[0msave\u001b[0m\u001b[0;34m(\u001b[0m\u001b[0;34m)\u001b[0m\u001b[0;34m\u001b[0m\u001b[0;34m\u001b[0m\u001b[0m\n\u001b[0m\u001b[1;32m      3\u001b[0m \u001b[0mload\u001b[0m\u001b[0;34m(\u001b[0m\u001b[0;34m)\u001b[0m\u001b[0;34m\u001b[0m\u001b[0;34m\u001b[0m\u001b[0m\n",
            "\u001b[0;31mNameError\u001b[0m: name 'save' is not defined"
          ]
        }
      ]
    },
    {
      "cell_type": "markdown",
      "metadata": {
        "id": "MTeC6jn2_8WA"
      },
      "source": [
        "**[小測驗]以下程序執行後的結果為何？**"
      ]
    },
    {
      "cell_type": "code",
      "metadata": {
        "id": "lMXr-6Sd__QO"
      },
      "source": [
        "import numpy as np\n",
        "ar=np.array([[3,2],[10,-1]])\n",
        "# ar\n",
        "ar.sort(axis=0)\n",
        "ar\n",
        "\n",
        "import numpy as np\n",
        "ar=np.random.randint(10,size=5)\n",
        "ar.sort()\n",
        "ar[::-1]"
      ],
      "execution_count": null,
      "outputs": []
    },
    {
      "cell_type": "markdown",
      "metadata": {
        "id": "4RV9J4ySAEmZ"
      },
      "source": [
        "#**龍大大我的億大樂透開獎中心**\n"
      ]
    },
    {
      "cell_type": "markdown",
      "metadata": {
        "id": "yHBUjif6AICg"
      },
      "source": [
        "說明底下程式的處理邏輯\n"
      ]
    },
    {
      "cell_type": "code",
      "metadata": {
        "id": "J01zWG0OAJs0"
      },
      "source": [
        "import random as rand\n",
        "\n",
        "list1 = rand.sample(range(1,50), 7)\n",
        "\n",
        "special = list1.pop()\n",
        "\n",
        "list1.sort()\n",
        "\n",
        "print(\"龍大大 我的億 大樂透 開獎中心\")\n",
        "print(\"本期大樂透中獎號碼為：\", end=\"\")\n",
        "for i in range(0,6):\n",
        "    if i == 5:    print(str(list1[i]))\n",
        "    else:    print(str(list1[i]), end=\", \")\n",
        "print(\"本期大樂透特別號為：\" + str(special))"
      ],
      "execution_count": null,
      "outputs": []
    },
    {
      "cell_type": "markdown",
      "metadata": {
        "id": "fy4YT7xYALSI"
      },
      "source": [
        "說明底下程式的處理邏輯\n",
        "\n",
        "[1]產生從1到49的7個不重複的整數\n",
        "\n",
        "\n",
        "[2]設定中獎號法\n",
        "挑出一個當作 特別號\n",
        "剩下六個當作 中獎號碼\n",
        "\n",
        "\n",
        "[3]印出 特殊格式輸出 的 中獎單"
      ]
    }
  ]
}